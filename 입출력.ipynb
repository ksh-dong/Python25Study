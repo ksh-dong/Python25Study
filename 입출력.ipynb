{
  "nbformat": 4,
  "nbformat_minor": 0,
  "metadata": {
    "colab": {
      "provenance": [],
      "authorship_tag": "ABX9TyNDyAHCfkg9nxgCqogN6fvN",
      "include_colab_link": true
    },
    "kernelspec": {
      "name": "python3",
      "display_name": "Python 3"
    },
    "language_info": {
      "name": "python"
    }
  },
  "cells": [
    {
      "cell_type": "markdown",
      "metadata": {
        "id": "view-in-github",
        "colab_type": "text"
      },
      "source": [
        "<a href=\"https://colab.research.google.com/github/ksh-dong/Python25Study/blob/main/%EC%9E%85%EC%B6%9C%EB%A0%A5.ipynb\" target=\"_parent\"><img src=\"https://colab.research.google.com/assets/colab-badge.svg\" alt=\"Open In Colab\"/></a>"
      ]
    },
    {
      "cell_type": "markdown",
      "source": [
        "# 함수란 무엇인가 ⏰\n",
        "함수를 설명하기 전에 믹서를 생각해 보자. 우리는 믹서에 과일을 넣는다. 그리고 믹서를 사용해서 과일을 갈아 과일 주스를 만든다. 우리가 믹서에 넣는 과일은 ‘입력’, 과일 주스는 ‘출력(결괏값)’이 된다.\n"
      ],
      "metadata": {
        "id": "ThIDbmT4xpFv"
      }
    },
    {
      "cell_type": "code",
      "source": [
        "def add(a, b):\n",
        "  return a+b"
      ],
      "metadata": {
        "id": "YvHpZDHGxr0X"
      },
      "execution_count": 2,
      "outputs": []
    },
    {
      "cell_type": "code",
      "source": [
        "a = 3\n",
        "b = 4\n",
        "c = add(a, b)\n",
        "print(c)"
      ],
      "metadata": {
        "colab": {
          "base_uri": "https://localhost:8080/"
        },
        "id": "2GDImS_VyS2o",
        "outputId": "00d08a88-d64c-424f-dfdc-5fdfb910e032"
      },
      "execution_count": 3,
      "outputs": [
        {
          "output_type": "stream",
          "name": "stdout",
          "text": [
            "7\n"
          ]
        }
      ]
    },
    {
      "cell_type": "code",
      "source": [
        "def add(a, b):  #a, b는 매개변수\n",
        "  return a+b\n",
        "\n",
        "print(add(3,4)) # 3, 4는 인수\n"
      ],
      "metadata": {
        "colab": {
          "base_uri": "https://localhost:8080/"
        },
        "id": "WvOj24LWyu6f",
        "outputId": "f7d7e611-8106-4617-90da-c5af8062d871"
      },
      "execution_count": 4,
      "outputs": [
        {
          "output_type": "stream",
          "name": "stdout",
          "text": [
            "7\n"
          ]
        }
      ]
    },
    {
      "cell_type": "code",
      "source": [],
      "metadata": {
        "id": "565WRba9zMpg"
      },
      "execution_count": null,
      "outputs": []
    },
    {
      "cell_type": "code",
      "source": [
        "def add(a, b):\n",
        "  result = a + b\n",
        "  return result"
      ],
      "metadata": {
        "id": "Y0swGFF4zXQn"
      },
      "execution_count": 5,
      "outputs": []
    },
    {
      "cell_type": "code",
      "source": [
        "a = add(3, 4)\n",
        "print(a)"
      ],
      "metadata": {
        "colab": {
          "base_uri": "https://localhost:8080/"
        },
        "id": "3InlrY6Gzff3",
        "outputId": "0671c4a6-188c-4ffc-decd-65df3df6ddc9"
      },
      "execution_count": 6,
      "outputs": [
        {
          "output_type": "stream",
          "name": "stdout",
          "text": [
            "7\n"
          ]
        }
      ]
    },
    {
      "cell_type": "code",
      "source": [
        "def say():\n",
        "  return 'HI'"
      ],
      "metadata": {
        "colab": {
          "base_uri": "https://localhost:8080/",
          "height": 35
        },
        "id": "A-bqz2dYzmfX",
        "outputId": "07f0eb98-8fdc-4271-8dd6-f5389000be18"
      },
      "execution_count": 8,
      "outputs": [
        {
          "output_type": "execute_result",
          "data": {
            "text/plain": [
              "'HI'"
            ],
            "application/vnd.google.colaboratory.intrinsic+json": {
              "type": "string"
            }
          },
          "metadata": {},
          "execution_count": 8
        }
      ]
    },
    {
      "cell_type": "code",
      "source": [
        "a = say()\n",
        "print(a)"
      ],
      "metadata": {
        "colab": {
          "base_uri": "https://localhost:8080/"
        },
        "id": "RjaBEvpWzuGP",
        "outputId": "ec6522ce-7bfd-45e0-f74b-15a349b4c79d"
      },
      "execution_count": 9,
      "outputs": [
        {
          "output_type": "stream",
          "name": "stdout",
          "text": [
            "HI\n"
          ]
        }
      ]
    },
    {
      "cell_type": "code",
      "source": [
        "def add(a, b):\n",
        "  print(\"%d, %d의 합은 %d입니다.\" % (a, b, a+b))"
      ],
      "metadata": {
        "id": "eMv7DhPozzAf"
      },
      "execution_count": 10,
      "outputs": []
    },
    {
      "cell_type": "code",
      "source": [
        "a = add(3, 4)\n",
        "print(a)"
      ],
      "metadata": {
        "colab": {
          "base_uri": "https://localhost:8080/"
        },
        "id": "ye7Oto-fz9qP",
        "outputId": "6d0a67ea-fee1-437e-9cb7-582cef5cbd43"
      },
      "execution_count": 12,
      "outputs": [
        {
          "output_type": "stream",
          "name": "stdout",
          "text": [
            "3, 4의 합은 7입니다.\n",
            "None\n"
          ]
        }
      ]
    },
    {
      "cell_type": "code",
      "source": [
        "def say():\n",
        "  print('HI')"
      ],
      "metadata": {
        "id": "sbw7haHg0Olo"
      },
      "execution_count": 13,
      "outputs": []
    },
    {
      "cell_type": "code",
      "source": [
        "say()"
      ],
      "metadata": {
        "colab": {
          "base_uri": "https://localhost:8080/"
        },
        "id": "ezX9ZuFN0SIQ",
        "outputId": "878e04ca-38b6-4fd0-d934-132d86d46b99"
      },
      "execution_count": 14,
      "outputs": [
        {
          "output_type": "stream",
          "name": "stdout",
          "text": [
            "HI\n"
          ]
        }
      ]
    },
    {
      "cell_type": "code",
      "source": [
        "def sub(a, b):\n",
        "  return a - b"
      ],
      "metadata": {
        "id": "3wkOvHy70Uww"
      },
      "execution_count": 16,
      "outputs": []
    },
    {
      "cell_type": "code",
      "source": [
        "result = sub(a=7, b=3)\n",
        "print(result)"
      ],
      "metadata": {
        "colab": {
          "base_uri": "https://localhost:8080/"
        },
        "id": "vWJ9_mwA0c9A",
        "outputId": "6506fd6d-38d5-4c47-bc2f-414137f651a2"
      },
      "execution_count": 17,
      "outputs": [
        {
          "output_type": "stream",
          "name": "stdout",
          "text": [
            "4\n"
          ]
        }
      ]
    },
    {
      "cell_type": "code",
      "source": [
        "result = sub(b=5, a=3)\n",
        "print(result)"
      ],
      "metadata": {
        "colab": {
          "base_uri": "https://localhost:8080/"
        },
        "id": "IS-Knf9s0kHQ",
        "outputId": "5bceb31c-d1dd-4fb8-d897-16f9962a21d4"
      },
      "execution_count": 18,
      "outputs": [
        {
          "output_type": "stream",
          "name": "stdout",
          "text": [
            "-2\n"
          ]
        }
      ]
    },
    {
      "cell_type": "code",
      "source": [
        "def add_many(*args):\n",
        "  result = 0\n",
        "  for i in args:\n",
        "    result = result + i;\n",
        "  return result"
      ],
      "metadata": {
        "id": "Cebwk_GI0zRY"
      },
      "execution_count": 19,
      "outputs": []
    },
    {
      "cell_type": "code",
      "source": [
        "result = add_many(1,2,3)\n",
        "print(result)\n",
        "\n",
        "result = add_many(1,2,3,4,5,6,7,8,9,10)\n",
        "print(result)"
      ],
      "metadata": {
        "colab": {
          "base_uri": "https://localhost:8080/"
        },
        "id": "iW8lFcmK09fg",
        "outputId": "2457dabf-fffb-4d0c-9dfe-d0c66d4a9602"
      },
      "execution_count": 21,
      "outputs": [
        {
          "output_type": "stream",
          "name": "stdout",
          "text": [
            "6\n",
            "55\n"
          ]
        }
      ]
    },
    {
      "cell_type": "code",
      "source": [
        "def add_mul(choice, *args):\n",
        "  if choice == \"add\":\n",
        "    result = 0\n",
        "    for i in args:\n",
        "      result = result + i\n",
        "  elif choice == \"mul\":\n",
        "    result = 1\n",
        "    for i in args:\n",
        "      result = result * i\n",
        "  return result"
      ],
      "metadata": {
        "id": "04rdDptT1NeQ"
      },
      "execution_count": 26,
      "outputs": []
    },
    {
      "cell_type": "code",
      "source": [
        "result = add_mul('add', 1,2,3,4,5)\n",
        "print(result)\n",
        "\n",
        "result = add_mul('mul', 1,2,3,4,5)\n",
        "print(result)\n",
        "\n"
      ],
      "metadata": {
        "colab": {
          "base_uri": "https://localhost:8080/"
        },
        "id": "Oj5LTGVc1neQ",
        "outputId": "6f3b650d-42a4-4aae-8bb9-067a3925d4ba"
      },
      "execution_count": 27,
      "outputs": [
        {
          "output_type": "stream",
          "name": "stdout",
          "text": [
            "15\n",
            "120\n"
          ]
        }
      ]
    },
    {
      "cell_type": "code",
      "source": [
        "def print_kwargs(**kwargs):\n",
        "  print(kwargs)"
      ],
      "metadata": {
        "id": "VKRI_uDi2OWY"
      },
      "execution_count": 28,
      "outputs": []
    },
    {
      "cell_type": "code",
      "source": [
        "print_kwargs(a=1)\n",
        "print_kwargs(name='foo', age=3)\n",
        "print_kwargs(name='홍길동', age=25, city='서울', job='개발자')"
      ],
      "metadata": {
        "colab": {
          "base_uri": "https://localhost:8080/"
        },
        "id": "Tejt8LIJ2Yvg",
        "outputId": "c93fc2ff-56d1-417c-ae18-d1de394e3b18"
      },
      "execution_count": 31,
      "outputs": [
        {
          "output_type": "stream",
          "name": "stdout",
          "text": [
            "{'a': 1}\n",
            "{'name': 'foo', 'age': 3}\n",
            "{'name': '홍길동', 'age': 25, 'city': '서울', 'job': '개발자'}\n"
          ]
        }
      ]
    },
    {
      "cell_type": "code",
      "source": [
        "def create_profile(**info):\n",
        "  print(\"=== 프로필 정보 ===\")\n",
        "  for key, value in info.items():\n",
        "    print(f\"{key}: {value}\")"
      ],
      "metadata": {
        "id": "D6O6Y1ZP26Ri"
      },
      "execution_count": 32,
      "outputs": []
    },
    {
      "cell_type": "code",
      "source": [
        "create_profile(이름='김철수', 나이=30, 직업='프로그래머', 취미='독서')"
      ],
      "metadata": {
        "colab": {
          "base_uri": "https://localhost:8080/"
        },
        "id": "Tdbb3ywm3KyR",
        "outputId": "9969c73c-8a1c-4edf-a8f3-9cb28f9f8b80"
      },
      "execution_count": 34,
      "outputs": [
        {
          "output_type": "stream",
          "name": "stdout",
          "text": [
            "=== 프로필 정보 ===\n",
            "이름: 김철수\n",
            "나이: 30\n",
            "직업: 프로그래머\n",
            "취미: 독서\n"
          ]
        }
      ]
    },
    {
      "cell_type": "code",
      "source": [
        "def mixed_function(name, *args, **kwargs):\n",
        "  print(f\"이름: {name}\")\n",
        "  print(f\"추가 인수들: {args}\")\n",
        "  print(f\"키워드 인수들: {kwargs}\")\n",
        "\n",
        "mixed_function('홍길동', 1,2,3, age=25, city='서울')"
      ],
      "metadata": {
        "colab": {
          "base_uri": "https://localhost:8080/"
        },
        "id": "WYY8562l3ok5",
        "outputId": "2702311e-f521-4abc-fd49-3bae36acd600"
      },
      "execution_count": 36,
      "outputs": [
        {
          "output_type": "stream",
          "name": "stdout",
          "text": [
            "이름: 홍길동\n",
            "추가 인수들: (1, 2, 3)\n",
            "키워드 인수들: {'age': 25, 'city': '서울'}\n"
          ]
        }
      ]
    },
    {
      "cell_type": "code",
      "source": [
        "def add_and_mul(a,b):\n",
        "  return a+b, a*b"
      ],
      "metadata": {
        "id": "sQEgVRLT4S2Z"
      },
      "execution_count": 37,
      "outputs": []
    },
    {
      "cell_type": "code",
      "source": [
        "result = add_and_mul(3, 4)\n",
        "result"
      ],
      "metadata": {
        "colab": {
          "base_uri": "https://localhost:8080/"
        },
        "id": "Biqx8v8p4YmB",
        "outputId": "09192480-6030-4028-954d-738813d56fa4"
      },
      "execution_count": 40,
      "outputs": [
        {
          "output_type": "execute_result",
          "data": {
            "text/plain": [
              "(7, 12)"
            ]
          },
          "metadata": {},
          "execution_count": 40
        }
      ]
    },
    {
      "cell_type": "code",
      "source": [
        "result1, result2 = add_and_mul(3,4)\n",
        "result1\n",
        "result2"
      ],
      "metadata": {
        "colab": {
          "base_uri": "https://localhost:8080/"
        },
        "id": "rVwkOBdy4o9y",
        "outputId": "49ae532b-870f-4629-9fc4-d5227dfd1dfe"
      },
      "execution_count": 44,
      "outputs": [
        {
          "output_type": "execute_result",
          "data": {
            "text/plain": [
              "12"
            ]
          },
          "metadata": {},
          "execution_count": 44
        }
      ]
    },
    {
      "cell_type": "code",
      "source": [
        "def add_and_mul(a,b):\n",
        "  return a+b\n",
        "  return a*b"
      ],
      "metadata": {
        "id": "IlHzcNVx45Dh"
      },
      "execution_count": 45,
      "outputs": []
    },
    {
      "cell_type": "code",
      "source": [
        "result = add_and_mul(2,3)\n",
        "print(result)"
      ],
      "metadata": {
        "colab": {
          "base_uri": "https://localhost:8080/"
        },
        "id": "5UvK9ogm5Aax",
        "outputId": "f628f3b9-6c22-48c7-8bdc-05dd875dff7b"
      },
      "execution_count": 46,
      "outputs": [
        {
          "output_type": "stream",
          "name": "stdout",
          "text": [
            "5\n"
          ]
        }
      ]
    },
    {
      "cell_type": "code",
      "source": [
        "def say_nick(nick):\n",
        "  if nick == \"바보\":\n",
        "    return\n",
        "  print(\"나의 별명은 %s 입니다.\" % nick)"
      ],
      "metadata": {
        "id": "XbJGJaL35HyC"
      },
      "execution_count": 50,
      "outputs": []
    },
    {
      "cell_type": "code",
      "source": [
        "say_nick(\"야호\")\n",
        "say_nick(\"바보\")"
      ],
      "metadata": {
        "colab": {
          "base_uri": "https://localhost:8080/"
        },
        "id": "mYEdTgtX5TFx",
        "outputId": "460256c2-a8e9-4124-e944-f0499fcbfff1"
      },
      "execution_count": 55,
      "outputs": [
        {
          "output_type": "stream",
          "name": "stdout",
          "text": [
            "나의 별명은 야호 입니다.\n"
          ]
        }
      ]
    },
    {
      "cell_type": "code",
      "source": [
        "def say_myself(name, age, man=True):\n",
        "  print(\"나의 이름은 %s 입니다.\" % name)\n",
        "  print(\"나이는 %d살 입니다.\" % age)\n",
        "  if man:\n",
        "    print(\"남자입니다.\")\n",
        "  else:\n",
        "    print(\"여자입니다.\")"
      ],
      "metadata": {
        "id": "CGqSKoK_57gq"
      },
      "execution_count": 57,
      "outputs": []
    },
    {
      "cell_type": "code",
      "source": [
        "say_myself(\"박응용\", 27)"
      ],
      "metadata": {
        "colab": {
          "base_uri": "https://localhost:8080/"
        },
        "id": "xlPAJzsl6QRq",
        "outputId": "b2c1a786-b409-4a31-fbfc-c464552b9349"
      },
      "execution_count": 58,
      "outputs": [
        {
          "output_type": "stream",
          "name": "stdout",
          "text": [
            "나의 이름은 박응용 입니다.\n",
            "나이는 27살 입니다.\n",
            "남자입니다.\n"
          ]
        }
      ]
    },
    {
      "cell_type": "code",
      "source": [
        "say_myself(\"박응용\", 27, False)"
      ],
      "metadata": {
        "colab": {
          "base_uri": "https://localhost:8080/"
        },
        "id": "VbyP9VRf6Vxi",
        "outputId": "0afb24c7-2898-4fb2-94d6-60b2148201ee"
      },
      "execution_count": 60,
      "outputs": [
        {
          "output_type": "stream",
          "name": "stdout",
          "text": [
            "나의 이름은 박응용 입니다.\n",
            "나이는 27살 입니다.\n",
            "여자입니다.\n"
          ]
        }
      ]
    },
    {
      "cell_type": "code",
      "source": [
        "a = 1\n",
        "def vartest(a):\n",
        "  a = a + 1\n",
        "\n",
        "vartest(a)\n",
        "print(a)\n"
      ],
      "metadata": {
        "colab": {
          "base_uri": "https://localhost:8080/"
        },
        "id": "3leSVEai7HIC",
        "outputId": "d815051f-3377-4b49-d1ce-c2ccb4e76076"
      },
      "execution_count": 63,
      "outputs": [
        {
          "output_type": "stream",
          "name": "stdout",
          "text": [
            "1\n"
          ]
        }
      ]
    },
    {
      "cell_type": "code",
      "source": [
        "a = 1\n",
        "def vartest(a):\n",
        "  a = a + 1\n",
        "  return a\n",
        "\n",
        "a = vartest(a)\n",
        "print(a)"
      ],
      "metadata": {
        "colab": {
          "base_uri": "https://localhost:8080/"
        },
        "id": "6om8htZn8D-q",
        "outputId": "912310b2-ea93-40da-f81f-e86f494c3dd8"
      },
      "execution_count": 68,
      "outputs": [
        {
          "output_type": "stream",
          "name": "stdout",
          "text": [
            "2\n"
          ]
        }
      ]
    },
    {
      "cell_type": "code",
      "source": [
        "a = 1\n",
        "def vartest():\n",
        "  global a\n",
        "  a = a + 1\n",
        "\n",
        "vartest()\n",
        "print(a)"
      ],
      "metadata": {
        "colab": {
          "base_uri": "https://localhost:8080/"
        },
        "id": "TGxxwmZB73rC",
        "outputId": "6a7b9145-64fe-47cf-9652-b8e71b0700a3"
      },
      "execution_count": 69,
      "outputs": [
        {
          "output_type": "stream",
          "name": "stdout",
          "text": [
            "2\n"
          ]
        }
      ]
    },
    {
      "cell_type": "code",
      "source": [
        "def change_list(my_list):\n",
        "  my_list.append(4)\n",
        "\n",
        "a = [1,2,3]\n",
        "change_list(a)\n",
        "print(a)"
      ],
      "metadata": {
        "colab": {
          "base_uri": "https://localhost:8080/"
        },
        "id": "2K4dso4c8qLj",
        "outputId": "0ef8a0e0-1f07-4225-97e5-ee06b404be0e"
      },
      "execution_count": 70,
      "outputs": [
        {
          "output_type": "stream",
          "name": "stdout",
          "text": [
            "[1, 2, 3, 4]\n"
          ]
        }
      ]
    },
    {
      "cell_type": "markdown",
      "source": [
        "###lambda 예약어 ❓\n",
        "\n",
        "함수_이름 = lambda 매개변수1, 매개변수2, ... : 매개변수를_이용한_표현식"
      ],
      "metadata": {
        "id": "kb8_wCnNDutd"
      }
    },
    {
      "cell_type": "code",
      "source": [
        "add = lambda a, b: a+b\n",
        "result = add(3, 4)\n",
        "print(result)"
      ],
      "metadata": {
        "colab": {
          "base_uri": "https://localhost:8080/"
        },
        "id": "ftGsXxkeD1vN",
        "outputId": "d5ae6e22-2d77-4dbb-dfdc-b3113a60c69b"
      },
      "execution_count": 76,
      "outputs": [
        {
          "output_type": "stream",
          "name": "stdout",
          "text": [
            "7\n"
          ]
        }
      ]
    },
    {
      "cell_type": "code",
      "source": [
        "def add(a, b):\n",
        "  return a+b\n",
        "\n",
        "result = add(3, 4)\n",
        "print(result)"
      ],
      "metadata": {
        "colab": {
          "base_uri": "https://localhost:8080/"
        },
        "id": "uprbshplEgwO",
        "outputId": "7daba907-a9db-4361-baa8-29a63525f782"
      },
      "execution_count": 73,
      "outputs": [
        {
          "output_type": "stream",
          "name": "stdout",
          "text": [
            "7\n"
          ]
        }
      ]
    },
    {
      "cell_type": "code",
      "source": [
        "def add(a, b):\n",
        "  \"\"\"\n",
        "  두 숫자를 더하는 함수\n",
        "\n",
        "  Parameters:\n",
        "  a (int, float): 첫 번째 숫자\n",
        "  b (int, float): 두 번째 숫자\n",
        "\n",
        "  returns:\n",
        "  int, float: 두 숫자의 합\n",
        "  \"\"\"\n",
        "  return a + b\n",
        "\n",
        "#독스트링 확인하기\n",
        "print(add.__doc__)"
      ],
      "metadata": {
        "colab": {
          "base_uri": "https://localhost:8080/"
        },
        "id": "jdocn6y0E-ge",
        "outputId": "2c6fd69a-c480-42c7-aad7-f3ae9b1114e9"
      },
      "execution_count": 77,
      "outputs": [
        {
          "output_type": "stream",
          "name": "stdout",
          "text": [
            "\n",
            "  두 숫자를 더하는 함수\n",
            "\n",
            "  Parameters:\n",
            "  a (int, float): 첫 번째 숫자\n",
            "  b (int, float): 두 번째 숫자\n",
            "\n",
            "  returns:\n",
            "  int, float: 두 숫자의 합\n",
            "  \n"
          ]
        }
      ]
    },
    {
      "cell_type": "markdown",
      "source": [
        "## 사용자 입출력\n",
        "우리들이 사용하는 대부분의 완성된 프로그램은 사용자 입력에 따라 그에 맞는 출력을 내보낸다. 대표적인 예로 게시판에 글을 작성한 후 [확인] 버튼을 눌러야만(입력) 우리가 작성한 글이 게시판에 올라가는(출력) 것을 들 수 있다."
      ],
      "metadata": {
        "id": "Y8yXawqxF7b3"
      }
    },
    {
      "cell_type": "code",
      "source": [
        "a = input()\n",
        "a"
      ],
      "metadata": {
        "colab": {
          "base_uri": "https://localhost:8080/",
          "height": 54
        },
        "id": "E6iNmc3JGL6O",
        "outputId": "f7ed4cd2-2600-4cd8-b6d9-6a2ae010009a"
      },
      "execution_count": 79,
      "outputs": [
        {
          "name": "stdout",
          "output_type": "stream",
          "text": [
            "Life is too short, you need python\n"
          ]
        },
        {
          "output_type": "execute_result",
          "data": {
            "text/plain": [
              "'Life is too short, you need python'"
            ],
            "application/vnd.google.colaboratory.intrinsic+json": {
              "type": "string"
            }
          },
          "metadata": {},
          "execution_count": 79
        }
      ]
    },
    {
      "cell_type": "code",
      "source": [
        "number = input(\"숫자를 입력하세요\")\n",
        "print(number)\n",
        "type(number)"
      ],
      "metadata": {
        "colab": {
          "base_uri": "https://localhost:8080/"
        },
        "id": "nDLVCu3rGdyu",
        "outputId": "6a481ce5-90ce-4f99-857d-40b670328e14"
      },
      "execution_count": 85,
      "outputs": [
        {
          "output_type": "stream",
          "name": "stdout",
          "text": [
            "숫자를 입력하세요3\n",
            "3\n"
          ]
        },
        {
          "output_type": "execute_result",
          "data": {
            "text/plain": [
              "str"
            ]
          },
          "metadata": {},
          "execution_count": 85
        }
      ]
    },
    {
      "cell_type": "code",
      "source": [
        "age = input(\"나이를 입력하세요: \")\n",
        "age = int(age)    #문자를 정수로 변환\n",
        "print(age + 1)"
      ],
      "metadata": {
        "colab": {
          "base_uri": "https://localhost:8080/"
        },
        "id": "kfSHVp32Gw7X",
        "outputId": "9ce68517-5610-4dea-ea14-4a6d75243e20"
      },
      "execution_count": 89,
      "outputs": [
        {
          "output_type": "stream",
          "name": "stdout",
          "text": [
            "나이를 입력하세요: 25\n",
            "26\n"
          ]
        }
      ]
    },
    {
      "cell_type": "code",
      "source": [
        "height = input(\"키를 입력하세요(cm): \")\n",
        "height = float(height)\n",
        "print(height/100)"
      ],
      "metadata": {
        "colab": {
          "base_uri": "https://localhost:8080/"
        },
        "id": "eyryyU-yHIyn",
        "outputId": "ede88bfb-b848-4a5b-9c52-68183b07f422"
      },
      "execution_count": 91,
      "outputs": [
        {
          "output_type": "stream",
          "name": "stdout",
          "text": [
            "키를 입력하세요(cm): 175.5\n",
            "1.755\n"
          ]
        }
      ]
    },
    {
      "cell_type": "code",
      "source": [
        "age = int(input(\"나이를 입력하세요\"))\n",
        "print(type(age))"
      ],
      "metadata": {
        "colab": {
          "base_uri": "https://localhost:8080/"
        },
        "id": "BfmI8Nv6HaAP",
        "outputId": "efb35f7d-dab9-4b76-cdcd-f9e999ad1c7d"
      },
      "execution_count": 93,
      "outputs": [
        {
          "output_type": "stream",
          "name": "stdout",
          "text": [
            "나이를 입력하세요25\n",
            "<class 'int'>\n"
          ]
        }
      ]
    },
    {
      "cell_type": "code",
      "source": [
        "print(\"life\" \"is\" \"to short\") #1번\n",
        "print(\"life\"+\"is\"+\"to short\") #2번"
      ],
      "metadata": {
        "colab": {
          "base_uri": "https://localhost:8080/"
        },
        "id": "AtU5MVUkHsmX",
        "outputId": "578aaaec-b768-473c-af3a-bea1556bf59f"
      },
      "execution_count": 95,
      "outputs": [
        {
          "output_type": "stream",
          "name": "stdout",
          "text": [
            "lifeisto short\n",
            "lifeisto short\n"
          ]
        }
      ]
    },
    {
      "cell_type": "code",
      "source": [
        "print(\"life\", \"is\", \"too short\")"
      ],
      "metadata": {
        "colab": {
          "base_uri": "https://localhost:8080/"
        },
        "id": "KS4mtwN0IBlf",
        "outputId": "d523a6b1-794b-4e8b-968e-33b0d3ae36c7"
      },
      "execution_count": 96,
      "outputs": [
        {
          "output_type": "stream",
          "name": "stdout",
          "text": [
            "life is too short\n"
          ]
        }
      ]
    },
    {
      "cell_type": "code",
      "source": [
        "print(\"2025\", \"08\", \"17\", sep=\"-\")\n",
        "print(\"점프\", \"투\", \"파이썬\", sep=\" TO \")"
      ],
      "metadata": {
        "colab": {
          "base_uri": "https://localhost:8080/"
        },
        "id": "DyWV-cXMIKhv",
        "outputId": "1409840a-8e0f-41c4-f908-6ccb7d11a3b4"
      },
      "execution_count": 98,
      "outputs": [
        {
          "output_type": "stream",
          "name": "stdout",
          "text": [
            "2025-08-17\n",
            "점프 TO 투 TO 파이썬\n"
          ]
        }
      ]
    },
    {
      "cell_type": "code",
      "source": [
        "for i in range(10):\n",
        "  print(i, end=' ')"
      ],
      "metadata": {
        "colab": {
          "base_uri": "https://localhost:8080/"
        },
        "id": "u4aF1ERxIhnf",
        "outputId": "a449bde5-9d02-4607-d316-862c66d7922c"
      },
      "execution_count": 107,
      "outputs": [
        {
          "output_type": "stream",
          "name": "stdout",
          "text": [
            "0 1 2 3 4 5 6 7 8 9 "
          ]
        }
      ]
    },
    {
      "cell_type": "code",
      "source": [
        "print(\"=== 간단한 계산기 ===\")\n",
        "\n",
        "# 사용자로 부터 두 숫자 입력받기\n",
        "num1 = float(input(\"첫 번째 숫자를 입력하세요: \"))\n",
        "num2 = float(input(\"두 번째 숫자를 입력하세요: \"))\n",
        "\n",
        "# 계산 결과 출력\n",
        "print(f\"{num1} + {num2} = {num1 + num2}\")\n",
        "print(f\"{num1} - {num2} = {num1 - num2}\")\n",
        "print(f\"{num1} * {num2} = {num1 * num2}\")\n",
        "\n",
        "if num2 != 0:\n",
        "  print(f\"{num1} / {num2} = {num1 / num2}\")\n",
        "else:\n",
        "  print(\"0으로 나눌 수 없습니다.\")"
      ],
      "metadata": {
        "colab": {
          "base_uri": "https://localhost:8080/"
        },
        "id": "Nx_12T3LI0Lo",
        "outputId": "cd461ef4-310e-48c7-d065-b0cbcbfe798b"
      },
      "execution_count": 110,
      "outputs": [
        {
          "output_type": "stream",
          "name": "stdout",
          "text": [
            "=== 간단한 계산기 ===\n",
            "첫 번째 숫자를 입력하세요: 10\n",
            "두 번째 숫자를 입력하세요: 3\n",
            "10.0 + 3.0 = 13.0\n",
            "10.0 - 3.0 = 7.0\n",
            "10.0 * 3.0 = 30.0\n",
            "10.0 / 3.0 = 3.3333333333333335\n"
          ]
        }
      ]
    },
    {
      "cell_type": "markdown",
      "source": [
        "## 파일 읽고 쓰기\n",
        "\n",
        "여기에서는 파일을 새로 만든 다음 프로그램이 만든 결괏값을 새 파일에 적어 본다. 또 파일에 적은 내용을 읽고 새로운 내용을 추가하는 방법도 알아본다."
      ],
      "metadata": {
        "id": "ZAiY0UUsL5eA"
      }
    },
    {
      "cell_type": "code",
      "source": [
        "f = open(\"새파일.txt\", 'w')\n",
        "f.close()"
      ],
      "metadata": {
        "id": "iSS4QE_iL_4o"
      },
      "execution_count": 113,
      "outputs": []
    },
    {
      "cell_type": "code",
      "source": [
        "f = open(\"새파일.txt\", 'w')\n",
        "for i in range(1, 11):\n",
        "  data = \"%d번째 줄입니다.\\n\" % i\n",
        "  f.write(data)\n",
        "f.close()\n"
      ],
      "metadata": {
        "id": "6xcUjaaWMyTp"
      },
      "execution_count": 115,
      "outputs": []
    },
    {
      "cell_type": "code",
      "source": [
        "f = open(\"새파일.txt\", 'r')\n",
        "line = f.readline()\n",
        "print(line)\n",
        "f.close()"
      ],
      "metadata": {
        "colab": {
          "base_uri": "https://localhost:8080/"
        },
        "id": "y6UkRAbWNWIR",
        "outputId": "bff3d0d8-bacd-43e6-dbee-d5377e79cc1a"
      },
      "execution_count": 116,
      "outputs": [
        {
          "output_type": "stream",
          "name": "stdout",
          "text": [
            "1번째 줄입니다.\n",
            "\n"
          ]
        }
      ]
    },
    {
      "cell_type": "code",
      "source": [
        "f = open(\"새파일.txt\", 'r')\n",
        "\n",
        "while True:\n",
        "  line = f.readline()\n",
        "  if not line: break\n",
        "  print(line, end='')\n",
        "f.close()"
      ],
      "metadata": {
        "colab": {
          "base_uri": "https://localhost:8080/"
        },
        "id": "oZhW5v_9NlyR",
        "outputId": "65598d62-e543-4731-9f5e-546091f494d3"
      },
      "execution_count": 119,
      "outputs": [
        {
          "output_type": "stream",
          "name": "stdout",
          "text": [
            "1번째 줄입니다.\n",
            "2번째 줄입니다.\n",
            "3번째 줄입니다.\n",
            "4번째 줄입니다.\n",
            "5번째 줄입니다.\n",
            "6번째 줄입니다.\n",
            "7번째 줄입니다.\n",
            "8번째 줄입니다.\n",
            "9번째 줄입니다.\n",
            "10번째 줄입니다.\n"
          ]
        }
      ]
    },
    {
      "cell_type": "code",
      "source": [
        "f = open(\"새파일.txt\")\n",
        "lines = f.readlines()\n",
        "for line in lines:\n",
        "  line = line.strip()   # 줄 끝의 줄 바꿈 문자를 제거한다\n",
        "  print(line)\n",
        "f.close()"
      ],
      "metadata": {
        "colab": {
          "base_uri": "https://localhost:8080/"
        },
        "id": "0p8HqtOZOJ6B",
        "outputId": "168d5af7-91ab-4a8e-b365-b78ba3eda434"
      },
      "execution_count": 124,
      "outputs": [
        {
          "output_type": "stream",
          "name": "stdout",
          "text": [
            "1번째 줄입니다.\n",
            "2번째 줄입니다.\n",
            "3번째 줄입니다.\n",
            "4번째 줄입니다.\n",
            "5번째 줄입니다.\n",
            "6번째 줄입니다.\n",
            "7번째 줄입니다.\n",
            "8번째 줄입니다.\n",
            "9번째 줄입니다.\n",
            "10번째 줄입니다.\n"
          ]
        }
      ]
    },
    {
      "cell_type": "code",
      "source": [
        "f = open(\"새파일.txt\")\n",
        "data = f.read()\n",
        "print(data)\n"
      ],
      "metadata": {
        "colab": {
          "base_uri": "https://localhost:8080/"
        },
        "id": "SM7e9eruOoYp",
        "outputId": "3dd5cf28-b6e4-4c90-b54d-d5cd7fbe6669"
      },
      "execution_count": 125,
      "outputs": [
        {
          "output_type": "stream",
          "name": "stdout",
          "text": [
            "1번째 줄입니다.\n",
            "2번째 줄입니다.\n",
            "3번째 줄입니다.\n",
            "4번째 줄입니다.\n",
            "5번째 줄입니다.\n",
            "6번째 줄입니다.\n",
            "7번째 줄입니다.\n",
            "8번째 줄입니다.\n",
            "9번째 줄입니다.\n",
            "10번째 줄입니다.\n",
            "\n"
          ]
        }
      ]
    },
    {
      "cell_type": "code",
      "source": [
        "f = open(\"새파일.txt\")\n",
        "for line in f:\n",
        "  print(line)\n",
        "f.close()"
      ],
      "metadata": {
        "colab": {
          "base_uri": "https://localhost:8080/"
        },
        "id": "hC2XuSQ-O2ZK",
        "outputId": "0663696f-e485-45b1-ebd1-5adbbaa2bc02"
      },
      "execution_count": 126,
      "outputs": [
        {
          "output_type": "stream",
          "name": "stdout",
          "text": [
            "1번째 줄입니다.\n",
            "\n",
            "2번째 줄입니다.\n",
            "\n",
            "3번째 줄입니다.\n",
            "\n",
            "4번째 줄입니다.\n",
            "\n",
            "5번째 줄입니다.\n",
            "\n",
            "6번째 줄입니다.\n",
            "\n",
            "7번째 줄입니다.\n",
            "\n",
            "8번째 줄입니다.\n",
            "\n",
            "9번째 줄입니다.\n",
            "\n",
            "10번째 줄입니다.\n",
            "\n"
          ]
        }
      ]
    },
    {
      "cell_type": "code",
      "source": [
        "f = open(\"새파일.txt\", 'a')\n",
        "for i in range(11, 20):\n",
        "  data = \"%d번째 줄입니다.\\n\" % i\n",
        "  f.write(data)\n",
        "f.close()"
      ],
      "metadata": {
        "id": "jFmq_NIFPLSy"
      },
      "execution_count": 127,
      "outputs": []
    },
    {
      "cell_type": "code",
      "source": [
        "f = open(\"새파일.txt\", 'r')\n",
        "for line in f:\n",
        "  line = line.strip()\n",
        "  print(line)\n",
        "f.close()"
      ],
      "metadata": {
        "colab": {
          "base_uri": "https://localhost:8080/"
        },
        "id": "jyb1a1K_Pixa",
        "outputId": "36304c77-fe22-4538-c38f-34c7d8977cad"
      },
      "execution_count": 129,
      "outputs": [
        {
          "output_type": "stream",
          "name": "stdout",
          "text": [
            "1번째 줄입니다.\n",
            "2번째 줄입니다.\n",
            "3번째 줄입니다.\n",
            "4번째 줄입니다.\n",
            "5번째 줄입니다.\n",
            "6번째 줄입니다.\n",
            "7번째 줄입니다.\n",
            "8번째 줄입니다.\n",
            "9번째 줄입니다.\n",
            "10번째 줄입니다.\n",
            "11번째 줄입니다.\n",
            "12번째 줄입니다.\n",
            "13번째 줄입니다.\n",
            "14번째 줄입니다.\n",
            "15번째 줄입니다.\n",
            "16번째 줄입니다.\n",
            "17번째 줄입니다.\n",
            "18번째 줄입니다.\n",
            "19번째 줄입니다.\n"
          ]
        }
      ]
    },
    {
      "cell_type": "code",
      "source": [
        "f = open(\"foo.txt\", 'w')\n",
        "f.write(\"Life is too short, you need python\")\n",
        "f.close()"
      ],
      "metadata": {
        "id": "NHNYY8AOP7di"
      },
      "execution_count": 130,
      "outputs": []
    },
    {
      "cell_type": "code",
      "source": [
        "f = open(\"foo.txt\", 'r')\n",
        "data = f.read()\n",
        "print(data)"
      ],
      "metadata": {
        "colab": {
          "base_uri": "https://localhost:8080/"
        },
        "id": "NeNa2T7sQIva",
        "outputId": "d0ce1753-a65f-42e6-e4b2-62b83b8f9681"
      },
      "execution_count": 131,
      "outputs": [
        {
          "output_type": "stream",
          "name": "stdout",
          "text": [
            "Life is too short, you need python\n"
          ]
        }
      ]
    },
    {
      "cell_type": "code",
      "source": [
        "with open(\"foo.txt\", 'w') as f:\n",
        "  f.write(\"Life is too short, you need python\")"
      ],
      "metadata": {
        "id": "YfFaMjc1QRgi"
      },
      "execution_count": 132,
      "outputs": []
    },
    {
      "cell_type": "code",
      "source": [
        "f = open(\"foo.txt\", 'r')\n",
        "print(f.read())"
      ],
      "metadata": {
        "colab": {
          "base_uri": "https://localhost:8080/"
        },
        "id": "nyV8DmrNQd8b",
        "outputId": "7764f609-6bbd-4d16-fa3c-76b46cdf0252"
      },
      "execution_count": 134,
      "outputs": [
        {
          "output_type": "stream",
          "name": "stdout",
          "text": [
            "Life is too short, you need python\n"
          ]
        }
      ]
    },
    {
      "cell_type": "markdown",
      "source": [
        "### with문과 스코프(Scope) 규칙\n",
        "파이썬에서 with 문 내에서 선언된 변수는 with 블록을 벗어난 후에도 접근할 수 있다. 이는 파이썬의 스코프(유효 범위) 특성 때문이다.\n",
        "\n",
        "1. 함수 스코프: 함수 안에서 선언된 변수는 함수 밖에서 접근할 수 없다.\n",
        "2. 블록 스코프: if, for, while, with 등의 블록 안에서 선언된 변수는 블록 밖에서도 접근할 수 있다."
      ],
      "metadata": {
        "id": "rQLrbKWtRSYD"
      }
    },
    {
      "cell_type": "code",
      "source": [
        "def my_function():\n",
        "  func_var = \"함수 안의 변수\"\n",
        "\n",
        "my_function()\n",
        "# print(func_var)"
      ],
      "metadata": {
        "id": "0pMHiLBYV7Ss"
      },
      "execution_count": 136,
      "outputs": []
    },
    {
      "cell_type": "code",
      "source": [
        "if True:\n",
        "  if_var = \"if 블록 안의 변수\"\n",
        "\n",
        "print(if_var)\n",
        "\n",
        "for i in range(3):\n",
        "  loop_var = \"반복문 안의 변수\"\n",
        "\n",
        "print(i)\n",
        "print(loop_var)"
      ],
      "metadata": {
        "colab": {
          "base_uri": "https://localhost:8080/"
        },
        "id": "0EruM1YkWOi0",
        "outputId": "0008b4df-e031-4228-acc4-f75f085ba635"
      },
      "execution_count": 140,
      "outputs": [
        {
          "output_type": "stream",
          "name": "stdout",
          "text": [
            "if 블록 안의 변수\n",
            "2\n",
            "반복문 안의 변수\n"
          ]
        }
      ]
    },
    {
      "cell_type": "code",
      "source": [
        "with open(\"test.txt\", \"w\") as f:\n",
        "  content = \"Hello, Python!\"\n",
        "  f.write(content)\n",
        "\n",
        "print(content)"
      ],
      "metadata": {
        "colab": {
          "base_uri": "https://localhost:8080/"
        },
        "id": "1j7hOa8ZXFWc",
        "outputId": "914d516b-9127-40fb-9763-c3e2e6a8ea34"
      },
      "execution_count": 141,
      "outputs": [
        {
          "output_type": "stream",
          "name": "stdout",
          "text": [
            "Hello, Python!\n"
          ]
        }
      ]
    },
    {
      "cell_type": "code",
      "source": [
        "with open(\"한글파일.txt\", \"w\", encoding=\"utf-8\") as f:\n",
        "  f.write(\"안녕하세요, 파이썬!\")"
      ],
      "metadata": {
        "id": "1TVP0ZfiXYe1"
      },
      "execution_count": 142,
      "outputs": []
    },
    {
      "cell_type": "code",
      "source": [
        "with open(\"한글파일.txt\", \"r\", encoding=\"utf-8\") as f:\n",
        "  content = f.read()\n",
        "  print(content)\n",
        "\n",
        "print(content)"
      ],
      "metadata": {
        "colab": {
          "base_uri": "https://localhost:8080/"
        },
        "id": "wKvtnYTfXqLt",
        "outputId": "fa692f34-52c0-4de4-d8bf-e43b8230c9cc"
      },
      "execution_count": 146,
      "outputs": [
        {
          "output_type": "stream",
          "name": "stdout",
          "text": [
            "안녕하세요, 파이썬!\n",
            "안녕하세요, 파이썬!\n"
          ]
        }
      ]
    },
    {
      "cell_type": "markdown",
      "source": [
        "##인코딩과 UTF-8\n",
        "인코딩(Encoding)은 문자를 컴퓨터가 이해할 수 있는 숫자로 변환하는 방식이다. 예를 들어 '가'라는 한글 문자를 어떤 숫자로 저장할지 정하는 규칙이 인코딩이다. UTF-8은 전 세계 모든 문자(한글, 영어, 중국어, 일본어, 특수문자 등)를 표현할 수 있는 가장 널리 사용되는 인코딩 방식이다."
      ],
      "metadata": {
        "id": "uiYh158-YEr9"
      }
    },
    {
      "cell_type": "markdown",
      "source": [
        "## sys 모듈 사용하기\n",
        "파이썬에서는 sys 모듈을 사용하여 프로그램에 인수를 전달할 수 있다. sys 모듈을 사용하려면 다음 예의 import sys처럼 import 명령어를 사용해야 한다.\n"
      ],
      "metadata": {
        "id": "ULDC9A46YYhX"
      }
    },
    {
      "cell_type": "code",
      "source": [
        "import sys\n",
        "\n",
        "args = sys.argv[1:]\n",
        "for i in args:\n",
        "  print(i)"
      ],
      "metadata": {
        "colab": {
          "base_uri": "https://localhost:8080/"
        },
        "id": "lsbtQy73YzsN",
        "outputId": "d7a382ac-8bc3-4c5c-ede7-5edf51f39941"
      },
      "execution_count": 147,
      "outputs": [
        {
          "output_type": "stream",
          "name": "stdout",
          "text": [
            "-f\n",
            "/root/.local/share/jupyter/runtime/kernel-5362d50b-72c7-4652-b446-d0d7ea281215.json\n"
          ]
        }
      ]
    }
  ]
}
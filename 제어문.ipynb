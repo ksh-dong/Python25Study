{
  "nbformat": 4,
  "nbformat_minor": 0,
  "metadata": {
    "colab": {
      "provenance": [],
      "authorship_tag": "ABX9TyOWj3Wyp26owKscYa75+ZJc",
      "include_colab_link": true
    },
    "kernelspec": {
      "name": "python3",
      "display_name": "Python 3"
    },
    "language_info": {
      "name": "python"
    }
  },
  "cells": [
    {
      "cell_type": "markdown",
      "metadata": {
        "id": "view-in-github",
        "colab_type": "text"
      },
      "source": [
        "<a href=\"https://colab.research.google.com/github/ksh-dong/Python25Study/blob/main/%EC%A0%9C%EC%96%B4%EB%AC%B8.ipynb\" target=\"_parent\"><img src=\"https://colab.research.google.com/assets/colab-badge.svg\" alt=\"Open In Colab\"/></a>"
      ]
    },
    {
      "cell_type": "code",
      "execution_count": 1,
      "metadata": {
        "colab": {
          "base_uri": "https://localhost:8080/"
        },
        "id": "xfYDBy-j7oh4",
        "outputId": "e7d9ed33-2ad9-4b46-ebc8-21b3cc5268b2"
      },
      "outputs": [
        {
          "output_type": "stream",
          "name": "stdout",
          "text": [
            "택시를 타고 가라\n"
          ]
        }
      ],
      "source": [
        "# IF문 학습하기\n",
        "money = True\n",
        "if money:\n",
        "  print(\"택시를 타고 가라\")\n",
        "else:\n",
        "  print(\"걸어가라\")\n"
      ]
    },
    {
      "cell_type": "code",
      "source": [
        "x = 3\n",
        "y = 2\n",
        "x > y\n",
        "x < y\n",
        "x == y\n",
        "x != y"
      ],
      "metadata": {
        "colab": {
          "base_uri": "https://localhost:8080/"
        },
        "id": "LSU--Uwd8S0n",
        "outputId": "96df932e-1fce-4ca0-a623-6336c0aee93d"
      },
      "execution_count": 2,
      "outputs": [
        {
          "output_type": "execute_result",
          "data": {
            "text/plain": [
              "True"
            ]
          },
          "metadata": {},
          "execution_count": 2
        }
      ]
    },
    {
      "cell_type": "code",
      "source": [
        "money = 2000\n",
        "if money >= 3000:\n",
        "  print(\"택시를 타고 가라\")\n",
        "else:\n",
        "  print(\"걸어가라\")\n"
      ],
      "metadata": {
        "colab": {
          "base_uri": "https://localhost:8080/"
        },
        "id": "cGsmGiHe9SmP",
        "outputId": "44bc4ba2-962c-427a-a951-ac4d5ef72606"
      },
      "execution_count": null,
      "outputs": [
        {
          "output_type": "stream",
          "name": "stdout",
          "text": [
            "걸어가라\n"
          ]
        }
      ]
    },
    {
      "cell_type": "code",
      "source": [
        "money = 2000\n",
        "card = True\n",
        "if money >= 3000 or card:\n",
        "  print(\"택시를 타고 가라\")\n",
        "else:\n",
        "  print(\"걸어가라\")\n"
      ],
      "metadata": {
        "colab": {
          "base_uri": "https://localhost:8080/"
        },
        "id": "4gKXDETK9jRP",
        "outputId": "23516cc3-795a-47ab-d1c9-269c94f3f18b"
      },
      "execution_count": null,
      "outputs": [
        {
          "output_type": "stream",
          "name": "stdout",
          "text": [
            "택시를 타고 가라\n"
          ]
        }
      ]
    },
    {
      "cell_type": "code",
      "source": [
        "1 in [1,2,3]\n",
        "1 not in [1,2,3]"
      ],
      "metadata": {
        "colab": {
          "base_uri": "https://localhost:8080/"
        },
        "id": "l2GddPKb93Nv",
        "outputId": "08b1941f-6c52-4f99-def4-45cc97bbaf22"
      },
      "execution_count": null,
      "outputs": [
        {
          "output_type": "execute_result",
          "data": {
            "text/plain": [
              "False"
            ]
          },
          "metadata": {},
          "execution_count": 11
        }
      ]
    },
    {
      "cell_type": "code",
      "source": [
        "'a' in ('a', 'b', 'c')\n",
        "'j' not in 'python'"
      ],
      "metadata": {
        "colab": {
          "base_uri": "https://localhost:8080/"
        },
        "id": "QrRNH6Q29_2W",
        "outputId": "36877ef2-8746-4c40-fb34-879d5e9ff4c0"
      },
      "execution_count": null,
      "outputs": [
        {
          "output_type": "execute_result",
          "data": {
            "text/plain": [
              "True"
            ]
          },
          "metadata": {},
          "execution_count": 13
        }
      ]
    },
    {
      "cell_type": "code",
      "source": [
        "pocket = ['paper', 'cellphone', 'money']\n",
        "if 'money' in pocket:\n",
        "  print(\"택시를 타고가라\")\n",
        "else:\n",
        "  print(\"걸어가라\")"
      ],
      "metadata": {
        "colab": {
          "base_uri": "https://localhost:8080/"
        },
        "id": "gsw2OiL4-NjG",
        "outputId": "76ae5662-770f-45bd-8653-41d82f828ed4"
      },
      "execution_count": null,
      "outputs": [
        {
          "output_type": "stream",
          "name": "stdout",
          "text": [
            "택시를 타고가라\n"
          ]
        }
      ]
    },
    {
      "cell_type": "code",
      "source": [
        "pocket = ['paper', 'money', 'cellphone']\n",
        "if 'money' in pocket:\n",
        "  pass\n",
        "else:\n",
        "  print(\"카드를 꺼내라\")"
      ],
      "metadata": {
        "id": "Ndb-JZbP-h9P"
      },
      "execution_count": null,
      "outputs": []
    },
    {
      "cell_type": "code",
      "source": [
        "pocket = ['paper', 'cellphone']\n",
        "card = True\n",
        "if 'money' in pocket:\n",
        "  print(\"택시를 타고가라\")\n",
        "else:\n",
        "  if card:\n",
        "    print(\"택시를 타고가라\")\n",
        "  else:\n",
        "    print(\"걸어가라\")"
      ],
      "metadata": {
        "colab": {
          "base_uri": "https://localhost:8080/"
        },
        "id": "MmS7cGYj-30v",
        "outputId": "d2449b56-debd-4f4e-8764-7a04bda17fcb"
      },
      "execution_count": null,
      "outputs": [
        {
          "output_type": "stream",
          "name": "stdout",
          "text": [
            "택시를 타고가라\n"
          ]
        }
      ]
    },
    {
      "cell_type": "code",
      "source": [
        "pocket = ['paper', 'cellphone']\n",
        "card = True\n",
        "if 'money' in pocket:\n",
        "  print(\"택시를 타고가라\")\n",
        "elif card:\n",
        "  print(\"택시를 타고가라\")\n",
        "else:\n",
        "  print(\"걸어가라\")"
      ],
      "metadata": {
        "colab": {
          "base_uri": "https://localhost:8080/"
        },
        "id": "a8Wv36PB_XhA",
        "outputId": "3b11a2e4-c4d0-4a12-b01c-10f55c0ffa83"
      },
      "execution_count": null,
      "outputs": [
        {
          "output_type": "stream",
          "name": "stdout",
          "text": [
            "택시를 타고가라\n"
          ]
        }
      ]
    },
    {
      "cell_type": "code",
      "source": [
        "pocket = ['paper', 'money', 'cellphone']\n",
        "if 'money' in pocket:pass\n",
        "else: print(\"카드를 꺼내라\")"
      ],
      "metadata": {
        "id": "uOg8D_lX_94Y"
      },
      "execution_count": null,
      "outputs": []
    },
    {
      "cell_type": "code",
      "source": [
        "x = 5\n",
        "1 < x < 10\n",
        "10 <= x <= 20"
      ],
      "metadata": {
        "colab": {
          "base_uri": "https://localhost:8080/"
        },
        "id": "U2xCyihHAOYg",
        "outputId": "3ceeafcb-f2fb-4194-8218-4b15e051a5b2"
      },
      "execution_count": null,
      "outputs": [
        {
          "output_type": "execute_result",
          "data": {
            "text/plain": [
              "False"
            ]
          },
          "metadata": {},
          "execution_count": 20
        }
      ]
    },
    {
      "cell_type": "code",
      "source": [
        "x = 5\n",
        "(1 < x) and (x < 10)\n",
        "(10 <= x) and (x <= 20)"
      ],
      "metadata": {
        "colab": {
          "base_uri": "https://localhost:8080/"
        },
        "id": "k9ZTOFl9AU3A",
        "outputId": "cea06f82-ace8-4340-c7ed-7f016e92d5b2"
      },
      "execution_count": null,
      "outputs": [
        {
          "output_type": "execute_result",
          "data": {
            "text/plain": [
              "False"
            ]
          },
          "metadata": {},
          "execution_count": 22
        }
      ]
    },
    {
      "cell_type": "code",
      "source": [
        "score = 85\n",
        "if score >= 60:\n",
        "  result = \"합격\"\n",
        "else:\n",
        "  result = \"불합격\"\n",
        "\n",
        "print(result)"
      ],
      "metadata": {
        "colab": {
          "base_uri": "https://localhost:8080/"
        },
        "id": "c4lXrz_YAqh_",
        "outputId": "fd10ef56-d85d-4339-f96e-becb216b136d"
      },
      "execution_count": null,
      "outputs": [
        {
          "output_type": "stream",
          "name": "stdout",
          "text": [
            "합격\n"
          ]
        }
      ]
    },
    {
      "cell_type": "code",
      "source": [
        "score = 85\n",
        "result = \"합격\" if score >= 60  else \"불합격\"\n",
        "print(result)"
      ],
      "metadata": {
        "colab": {
          "base_uri": "https://localhost:8080/"
        },
        "id": "G8scCiL5A73A",
        "outputId": "c97bab7f-1258-4eb6-a5cd-c255cdf3be59"
      },
      "execution_count": null,
      "outputs": [
        {
          "output_type": "stream",
          "name": "stdout",
          "text": [
            "합격\n"
          ]
        }
      ]
    },
    {
      "cell_type": "code",
      "source": [
        "age = 19\n",
        "status = \"성인\" if age >= 18 else \"미성년\"\n",
        "print(status)"
      ],
      "metadata": {
        "colab": {
          "base_uri": "https://localhost:8080/"
        },
        "id": "3FYC3lPfBeZg",
        "outputId": "07434016-bb58-4bb8-d9eb-3f28c06cfecf"
      },
      "execution_count": null,
      "outputs": [
        {
          "output_type": "stream",
          "name": "stdout",
          "text": [
            "성인\n"
          ]
        }
      ]
    },
    {
      "cell_type": "code",
      "source": [
        "temperature = 25\n",
        "weather = \"따뜻함\" if temperature >= 20 else \"추움\"\n",
        "print(weather)"
      ],
      "metadata": {
        "colab": {
          "base_uri": "https://localhost:8080/"
        },
        "id": "AOt405RVBtBI",
        "outputId": "88043c68-4a48-42c5-8e74-147b894e9553"
      },
      "execution_count": null,
      "outputs": [
        {
          "output_type": "stream",
          "name": "stdout",
          "text": [
            "따뜻함\n"
          ]
        }
      ]
    },
    {
      "cell_type": "code",
      "source": [
        "money = 1500\n",
        "transportation = \"버스\" if money >= 1000 else \"도보\"\n",
        "print(transportation)"
      ],
      "metadata": {
        "colab": {
          "base_uri": "https://localhost:8080/"
        },
        "id": "sm_jk_4jB-dQ",
        "outputId": "5759b112-8b76-44fa-f316-e1debeb24623"
      },
      "execution_count": null,
      "outputs": [
        {
          "output_type": "stream",
          "name": "stdout",
          "text": [
            "버스\n"
          ]
        }
      ]
    },
    {
      "cell_type": "markdown",
      "source": [
        "#While\n",
        "-⚡"
      ],
      "metadata": {
        "id": "GZx47qCuDDNw"
      }
    },
    {
      "cell_type": "code",
      "source": [
        "treeHit = 0\n",
        "while treeHit < 10:\n",
        "  treeHit = treeHit + 1\n",
        "  print(\"나무를 %d번 찍었습니다.\" % treeHit)\n",
        "  if treeHit == 10:\n",
        "    print(\"나무 넘어갑니다.\")\n",
        "\n"
      ],
      "metadata": {
        "colab": {
          "base_uri": "https://localhost:8080/"
        },
        "id": "Luwz2KyfDdvJ",
        "outputId": "7af9302b-4422-427f-a9e4-84da819e769f"
      },
      "execution_count": null,
      "outputs": [
        {
          "output_type": "stream",
          "name": "stdout",
          "text": [
            "나무를 1번 찍었습니다.\n",
            "나무를 2번 찍었습니다.\n",
            "나무를 3번 찍었습니다.\n",
            "나무를 4번 찍었습니다.\n",
            "나무를 5번 찍었습니다.\n",
            "나무를 6번 찍었습니다.\n",
            "나무를 7번 찍었습니다.\n",
            "나무를 8번 찍었습니다.\n",
            "나무를 9번 찍었습니다.\n",
            "나무를 10번 찍었습니다.\n",
            "나무 넘어갑니다.\n"
          ]
        }
      ]
    },
    {
      "cell_type": "code",
      "source": [
        "prompt = \"\"\"\n",
        "1. Add\n",
        "2. Del\n",
        "3. List\n",
        "4. Quit\n",
        "\n",
        "Enter number: \"\"\"\n",
        "\n",
        "number = 0\n",
        "while number != 4:\n",
        "  print(prompt)\n",
        "  number = int(input())\n"
      ],
      "metadata": {
        "colab": {
          "base_uri": "https://localhost:8080/"
        },
        "id": "B6SQAS6ZKN2j",
        "outputId": "b98a3093-a81b-4239-9c1d-bc0f9db641ec"
      },
      "execution_count": null,
      "outputs": [
        {
          "name": "stdout",
          "output_type": "stream",
          "text": [
            "\n",
            "1. Add\n",
            "2. Del\n",
            "3. List\n",
            "4. Quit\n",
            "\n",
            "Enter number: \n",
            "1\n",
            "\n",
            "1. Add\n",
            "2. Del\n",
            "3. List\n",
            "4. Quit\n",
            "\n",
            "Enter number: \n",
            "2\n",
            "\n",
            "1. Add\n",
            "2. Del\n",
            "3. List\n",
            "4. Quit\n",
            "\n",
            "Enter number: \n",
            "3\n",
            "\n",
            "1. Add\n",
            "2. Del\n",
            "3. List\n",
            "4. Quit\n",
            "\n",
            "Enter number: \n",
            "4\n"
          ]
        }
      ]
    },
    {
      "cell_type": "code",
      "source": [
        "# 커피\n",
        "coffee = 10\n",
        "money = 300\n",
        "while money:\n",
        "  print(\"돈을 받았으니 커피를 줍니다.\")\n",
        "  coffee = coffee - 1\n",
        "  print(\"남은 커피의 양은 %d개 입니다.\" % coffee)\n",
        "  if coffee == 0:\n",
        "    print(\"커피가 다 떨어졌습니다. 판매를 중지합니다.\")\n",
        "    break\n"
      ],
      "metadata": {
        "colab": {
          "base_uri": "https://localhost:8080/"
        },
        "id": "54lGWSXFLeYr",
        "outputId": "0a24b98f-4433-4e45-f054-3d7b964a446d"
      },
      "execution_count": null,
      "outputs": [
        {
          "output_type": "stream",
          "name": "stdout",
          "text": [
            "돈을 받았으니 커피를 줍니다.\n",
            "남은 커피의 양은 9개 입니다.\n",
            "돈을 받았으니 커피를 줍니다.\n",
            "남은 커피의 양은 8개 입니다.\n",
            "돈을 받았으니 커피를 줍니다.\n",
            "남은 커피의 양은 7개 입니다.\n",
            "돈을 받았으니 커피를 줍니다.\n",
            "남은 커피의 양은 6개 입니다.\n",
            "돈을 받았으니 커피를 줍니다.\n",
            "남은 커피의 양은 5개 입니다.\n",
            "돈을 받았으니 커피를 줍니다.\n",
            "남은 커피의 양은 4개 입니다.\n",
            "돈을 받았으니 커피를 줍니다.\n",
            "남은 커피의 양은 3개 입니다.\n",
            "돈을 받았으니 커피를 줍니다.\n",
            "남은 커피의 양은 2개 입니다.\n",
            "돈을 받았으니 커피를 줍니다.\n",
            "남은 커피의 양은 1개 입니다.\n",
            "돈을 받았으니 커피를 줍니다.\n",
            "남은 커피의 양은 0개 입니다.\n",
            "커피가 다 떨어졌습니다. 판매를 중지합니다.\n"
          ]
        }
      ]
    },
    {
      "cell_type": "code",
      "source": [
        "# 커피 자판기\n",
        "coffee = 10\n",
        "while True:\n",
        "  money = int(input(\"돈을 넣어 주세요:\"))\n",
        "  if money == 300:\n",
        "    print(\"커피를 줍니다.\")\n",
        "    coffee = coffee - 1\n",
        "  elif money > 300:\n",
        "    print(\"거스름돈 %d를 주고 커피를 줍니다.\" % (money - 300))\n",
        "    coffee = coffee - 1\n",
        "  else:\n",
        "    print(\"돈을 다시 돌려주고 커피를 주지 않습니다.\")\n",
        "    print(\"남은 커피의 양은 %d개 입니다.\" % coffee)\n",
        "  if coffee == 0:\n",
        "    print(\"커피가 다 떨어졌습니다. 판매를 중지합니다.\")\n",
        "    break\n",
        "\n",
        "\n"
      ],
      "metadata": {
        "colab": {
          "base_uri": "https://localhost:8080/"
        },
        "id": "pjOk1XAMMKLj",
        "outputId": "8b305ba5-42c3-496f-f681-1b63965018cf"
      },
      "execution_count": null,
      "outputs": [
        {
          "output_type": "stream",
          "name": "stdout",
          "text": [
            "돈을 넣어 주세요:300\n",
            "커피를 줍니다.\n",
            "돈을 넣어 주세요:300\n",
            "커피를 줍니다.\n",
            "돈을 넣어 주세요:400\n",
            "거스름돈 100를 주고 커피를 줍니다.\n",
            "돈을 넣어 주세요:1000\n",
            "거스름돈 700를 주고 커피를 줍니다.\n",
            "돈을 넣어 주세요:300\n",
            "커피를 줍니다.\n",
            "돈을 넣어 주세요:100\n",
            "돈을 다시 돌려주고 커피를 주지 않습니다.\n",
            "남은 커피의 양은 5개 입니다.\n",
            "돈을 넣어 주세요:300\n",
            "커피를 줍니다.\n",
            "돈을 넣어 주세요:300\n",
            "커피를 줍니다.\n",
            "돈을 넣어 주세요:100\n",
            "돈을 다시 돌려주고 커피를 주지 않습니다.\n",
            "남은 커피의 양은 3개 입니다.\n",
            "돈을 넣어 주세요:400\n",
            "거스름돈 100를 주고 커피를 줍니다.\n",
            "돈을 넣어 주세요:1000\n",
            "거스름돈 700를 주고 커피를 줍니다.\n",
            "돈을 넣어 주세요:1\n",
            "돈을 다시 돌려주고 커피를 주지 않습니다.\n",
            "남은 커피의 양은 1개 입니다.\n",
            "돈을 넣어 주세요:300\n",
            "커피를 줍니다.\n",
            "커피가 다 떨어졌습니다. 판매를 중지합니다.\n"
          ]
        }
      ]
    },
    {
      "cell_type": "code",
      "source": [
        "a = 0\n",
        "while a < 10:\n",
        "  a = a + 1\n",
        "  if a % 2 == 0: continue\n",
        "  print(a)"
      ],
      "metadata": {
        "id": "TFtcOpxUSMd1",
        "colab": {
          "base_uri": "https://localhost:8080/"
        },
        "outputId": "aab89741-ab43-4663-b14c-2b531484cfa3"
      },
      "execution_count": 3,
      "outputs": [
        {
          "output_type": "stream",
          "name": "stdout",
          "text": [
            "1\n",
            "3\n",
            "5\n",
            "7\n",
            "9\n"
          ]
        }
      ]
    },
    {
      "cell_type": "code",
      "source": [
        "count = 0\n",
        "while count < 10:\n",
        "  print(f\"카운트:{count}\")\n",
        "  count += 1\n",
        "else:\n",
        "  print(\"while문이 정상 종료되었습니다.\")"
      ],
      "metadata": {
        "colab": {
          "base_uri": "https://localhost:8080/"
        },
        "id": "ruvNjibRTJ6m",
        "outputId": "6e6e5179-bb1f-47bb-e910-7bd9d2a6780f"
      },
      "execution_count": 5,
      "outputs": [
        {
          "output_type": "stream",
          "name": "stdout",
          "text": [
            "카운트:0\n",
            "카운트:1\n",
            "카운트:2\n",
            "카운트:3\n",
            "카운트:4\n",
            "카운트:5\n",
            "카운트:6\n",
            "카운트:7\n",
            "카운트:8\n",
            "카운트:9\n",
            "while문이 정상 종료되었습니다.\n"
          ]
        }
      ]
    },
    {
      "cell_type": "code",
      "source": [
        "count = 0\n",
        "while count < 5:\n",
        "  if count == 2:\n",
        "    break\n",
        "  print(f\"카운트: {count}\")\n",
        "  count += 1\n",
        "else:\n",
        "  print(\"while 문이 정상 종료되었습니다.\")"
      ],
      "metadata": {
        "colab": {
          "base_uri": "https://localhost:8080/"
        },
        "id": "L_wBdOCqTj4n",
        "outputId": "a56f8aa8-6809-4be7-e1dd-b2522b7ed1e1"
      },
      "execution_count": 6,
      "outputs": [
        {
          "output_type": "stream",
          "name": "stdout",
          "text": [
            "카운트: 0\n",
            "카운트: 1\n"
          ]
        }
      ]
    },
    {
      "cell_type": "code",
      "source": [
        "i = 1\n",
        "while i <= 3:\n",
        "  j = 1\n",
        "  while j <= 3:\n",
        "    print(f\"i={i}, j={j}\")\n",
        "    j += 1\n",
        "  i += 1\n",
        "\n",
        ""
      ],
      "metadata": {
        "colab": {
          "base_uri": "https://localhost:8080/"
        },
        "id": "KcyGcbW3T40m",
        "outputId": "61cc326b-db11-4604-8a70-6180b58d7ef7"
      },
      "execution_count": 7,
      "outputs": [
        {
          "output_type": "stream",
          "name": "stdout",
          "text": [
            "i=1, j=1\n",
            "i=1, j=2\n",
            "i=1, j=3\n",
            "i=2, j=1\n",
            "i=2, j=2\n",
            "i=2, j=3\n",
            "i=3, j=1\n",
            "i=3, j=2\n",
            "i=3, j=3\n"
          ]
        }
      ]
    },
    {
      "cell_type": "markdown",
      "source": [
        "#for 문의 기본 구조\n",
        "⛳"
      ],
      "metadata": {
        "id": "kbCv6R_BWZMH"
      }
    },
    {
      "cell_type": "code",
      "source": [
        "test_list = ['one', 'two', 'three']\n",
        "for i in test_list:\n",
        "  print(i)"
      ],
      "metadata": {
        "colab": {
          "base_uri": "https://localhost:8080/"
        },
        "id": "orZ0zp_1Wkqm",
        "outputId": "50c9b18f-881d-4f01-d6fd-18d19a8d3689"
      },
      "execution_count": 8,
      "outputs": [
        {
          "output_type": "stream",
          "name": "stdout",
          "text": [
            "one\n",
            "two\n",
            "three\n"
          ]
        }
      ]
    },
    {
      "cell_type": "code",
      "source": [
        "a = [(1,2), (3,4), (5,6)]\n",
        "for (first, last) in a:\n",
        "  print(first + last)"
      ],
      "metadata": {
        "colab": {
          "base_uri": "https://localhost:8080/"
        },
        "id": "JQIEi9WwW2an",
        "outputId": "b1ddfd9f-aa13-4184-882d-973f4cd4dee1"
      },
      "execution_count": 9,
      "outputs": [
        {
          "output_type": "stream",
          "name": "stdout",
          "text": [
            "3\n",
            "7\n",
            "11\n"
          ]
        }
      ]
    },
    {
      "cell_type": "code",
      "source": [
        "marks = [90, 25, 67, 45, 80]\n",
        "\n",
        "number = 0\n",
        "for mark in marks:\n",
        "  number = number + 1\n",
        "  if mark >= 60:\n",
        "    print(\"%d번 학생은 합격입니다.\" % number)\n",
        "  else:\n",
        "    print(\"%d번 학생은 불합격입니다.\" % number)"
      ],
      "metadata": {
        "colab": {
          "base_uri": "https://localhost:8080/"
        },
        "id": "RBdfDeQAXK6H",
        "outputId": "b1f2f46e-385c-41d9-fa5f-d38920eaf549"
      },
      "execution_count": 10,
      "outputs": [
        {
          "output_type": "stream",
          "name": "stdout",
          "text": [
            "1번 학생은 합격입니다.\n",
            "2번 학생은 불합격입니다.\n",
            "3번 학생은 합격입니다.\n",
            "4번 학생은 불합격입니다.\n",
            "5번 학생은 합격입니다.\n"
          ]
        }
      ]
    },
    {
      "cell_type": "code",
      "source": [
        "marks = [90, 25, 67, 45, 80]\n",
        "\n",
        "number = 0\n",
        "for mark in marks:\n",
        "  number = number + 1\n",
        "  if mark < 60:\n",
        "    continue\n",
        "  print(\"%d번 학생 축하합니다. 합격입니다.\" % number)"
      ],
      "metadata": {
        "colab": {
          "base_uri": "https://localhost:8080/"
        },
        "id": "TiXV2FdBX1sD",
        "outputId": "5e859f45-3bc0-4c36-84b6-9e72e7f41a23"
      },
      "execution_count": 11,
      "outputs": [
        {
          "output_type": "stream",
          "name": "stdout",
          "text": [
            "1번 학생 축하합니다. 합격입니다.\n",
            "3번 학생 축하합니다. 합격입니다.\n",
            "5번 학생 축하합니다. 합격입니다.\n"
          ]
        }
      ]
    },
    {
      "cell_type": "code",
      "source": [
        "a = range(10)\n",
        "a"
      ],
      "metadata": {
        "colab": {
          "base_uri": "https://localhost:8080/"
        },
        "id": "K418oqPFYNt_",
        "outputId": "2c1fcc9e-6362-4682-9b1f-4b5fcc291a77"
      },
      "execution_count": 13,
      "outputs": [
        {
          "output_type": "execute_result",
          "data": {
            "text/plain": [
              "range(0, 10)"
            ]
          },
          "metadata": {},
          "execution_count": 13
        }
      ]
    },
    {
      "cell_type": "code",
      "source": [
        "a = range(1, 11)\n",
        "a"
      ],
      "metadata": {
        "colab": {
          "base_uri": "https://localhost:8080/"
        },
        "id": "LAF0iY72YSPH",
        "outputId": "b7244b51-89a0-4a87-c3e3-c467c65b7def"
      },
      "execution_count": 14,
      "outputs": [
        {
          "output_type": "execute_result",
          "data": {
            "text/plain": [
              "range(1, 11)"
            ]
          },
          "metadata": {},
          "execution_count": 14
        }
      ]
    },
    {
      "cell_type": "code",
      "source": [
        "add = 0\n",
        "for i in range(1,11):   # 1 <= i < 11, 1~10\n",
        "  add = add + i\n",
        "  print(f\"i={i}, add={add}\")\n",
        "\n",
        "print(add)"
      ],
      "metadata": {
        "colab": {
          "base_uri": "https://localhost:8080/"
        },
        "id": "x3el_rvmYWcn",
        "outputId": "5fe70006-7f76-4b23-b35c-dc2d93cf1a6b"
      },
      "execution_count": 16,
      "outputs": [
        {
          "output_type": "stream",
          "name": "stdout",
          "text": [
            "i=1, add=1\n",
            "i=2, add=3\n",
            "i=3, add=6\n",
            "i=4, add=10\n",
            "i=5, add=15\n",
            "i=6, add=21\n",
            "i=7, add=28\n",
            "i=8, add=36\n",
            "i=9, add=45\n",
            "i=10, add=55\n",
            "55\n"
          ]
        }
      ]
    },
    {
      "cell_type": "code",
      "source": [
        "marks = [90, 25, 65, 45, 80]\n",
        "for number in range(len(marks)):\n",
        "  if marks[number] < 60:\n",
        "    continue\n",
        "  print(\"%d번 학생 축하합니다. 합격입니다.\" % (number+1))"
      ],
      "metadata": {
        "colab": {
          "base_uri": "https://localhost:8080/"
        },
        "id": "Zxf95YODZNRY",
        "outputId": "4a6b6aef-7d40-4628-f491-2e5d13f74f34"
      },
      "execution_count": 17,
      "outputs": [
        {
          "output_type": "stream",
          "name": "stdout",
          "text": [
            "1번 학생 축하합니다. 합격입니다.\n",
            "3번 학생 축하합니다. 합격입니다.\n",
            "5번 학생 축하합니다. 합격입니다.\n"
          ]
        }
      ]
    },
    {
      "cell_type": "code",
      "source": [
        "for i in range(2,10):\n",
        "  for j in range(1, 10):\n",
        "    print(i*j ,end=\" \")\n",
        "  print(\"\")"
      ],
      "metadata": {
        "colab": {
          "base_uri": "https://localhost:8080/"
        },
        "id": "SIvrSgXZZw8w",
        "outputId": "3739ee2d-8ac8-48c5-8307-ec545a3385f4"
      },
      "execution_count": 24,
      "outputs": [
        {
          "output_type": "stream",
          "name": "stdout",
          "text": [
            "2 4 6 8 10 12 14 16 18 \n",
            "3 6 9 12 15 18 21 24 27 \n",
            "4 8 12 16 20 24 28 32 36 \n",
            "5 10 15 20 25 30 35 40 45 \n",
            "6 12 18 24 30 36 42 48 54 \n",
            "7 14 21 28 35 42 49 56 63 \n",
            "8 16 24 32 40 48 56 64 72 \n",
            "9 18 27 36 45 54 63 72 81 \n"
          ]
        }
      ]
    },
    {
      "cell_type": "code",
      "source": [
        "a = [1,2,3,4]\n",
        "result = []\n",
        "for num in a:\n",
        "  result.append(num*3)\n",
        "\n",
        "print(result)"
      ],
      "metadata": {
        "colab": {
          "base_uri": "https://localhost:8080/"
        },
        "id": "WiIbB7FwapNQ",
        "outputId": "184b47f0-0eca-4a95-f43e-071f07cf3ec6"
      },
      "execution_count": 26,
      "outputs": [
        {
          "output_type": "stream",
          "name": "stdout",
          "text": [
            "[3, 6, 9, 12]\n"
          ]
        }
      ]
    },
    {
      "cell_type": "code",
      "source": [
        "a = [1,2,3,4]\n",
        "result = [num*3 for num in a]\n",
        "print(result)"
      ],
      "metadata": {
        "colab": {
          "base_uri": "https://localhost:8080/"
        },
        "id": "4HONVbsNbLcp",
        "outputId": "e60fcee6-a2d8-483c-8add-c556e9e93ba4"
      },
      "execution_count": 33,
      "outputs": [
        {
          "output_type": "stream",
          "name": "stdout",
          "text": [
            "[3, 6, 9, 12]\n"
          ]
        }
      ]
    },
    {
      "cell_type": "code",
      "source": [
        "a = [1,2,3,4]\n",
        "result = [num*3 for num in a if num%2 == 0]\n",
        "print(result)"
      ],
      "metadata": {
        "colab": {
          "base_uri": "https://localhost:8080/"
        },
        "id": "Z7Y7z4tjbxeR",
        "outputId": "82390bf1-6468-4082-b595-d9a2bdb89ab7"
      },
      "execution_count": 36,
      "outputs": [
        {
          "output_type": "stream",
          "name": "stdout",
          "text": [
            "[6, 12]\n"
          ]
        }
      ]
    },
    {
      "cell_type": "code",
      "source": [
        "result = [x*y for x in range(2,10)\n",
        "              for y in range(1,10)]\n",
        "print(result)"
      ],
      "metadata": {
        "colab": {
          "base_uri": "https://localhost:8080/"
        },
        "id": "ZBmS6Xl3cGzx",
        "outputId": "added246-d6f0-4282-e805-1133bbf4d255"
      },
      "execution_count": 38,
      "outputs": [
        {
          "output_type": "stream",
          "name": "stdout",
          "text": [
            "[2, 4, 6, 8, 10, 12, 14, 16, 18, 3, 6, 9, 12, 15, 18, 21, 24, 27, 4, 8, 12, 16, 20, 24, 28, 32, 36, 5, 10, 15, 20, 25, 30, 35, 40, 45, 6, 12, 18, 24, 30, 36, 42, 48, 54, 7, 14, 21, 28, 35, 42, 49, 56, 63, 8, 16, 24, 32, 40, 48, 56, 64, 72, 9, 18, 27, 36, 45, 54, 63, 72, 81]\n"
          ]
        }
      ]
    },
    {
      "cell_type": "code",
      "source": [
        "for i in range(10):\n",
        "  if i == 5:\n",
        "    break\n",
        "  print(i)"
      ],
      "metadata": {
        "colab": {
          "base_uri": "https://localhost:8080/"
        },
        "id": "UOpqjiMmcgqR",
        "outputId": "2f944454-c082-422d-c285-e7115b516c37"
      },
      "execution_count": 39,
      "outputs": [
        {
          "output_type": "stream",
          "name": "stdout",
          "text": [
            "0\n",
            "1\n",
            "2\n",
            "3\n",
            "4\n"
          ]
        }
      ]
    },
    {
      "cell_type": "code",
      "source": [
        "for i in range(5):\n",
        "  print(i)\n",
        "else:\n",
        "  print(\"for 문이 정상 종료되었습니다.\")"
      ],
      "metadata": {
        "colab": {
          "base_uri": "https://localhost:8080/"
        },
        "id": "jkh59KbWcqe4",
        "outputId": "7dd4c917-6939-4345-fd46-9cf51e0664b0"
      },
      "execution_count": 40,
      "outputs": [
        {
          "output_type": "stream",
          "name": "stdout",
          "text": [
            "0\n",
            "1\n",
            "2\n",
            "3\n",
            "4\n",
            "for 문이 정상 종료되었습니다.\n"
          ]
        }
      ]
    },
    {
      "cell_type": "code",
      "source": [
        "for i in range(5):\n",
        "  if i == 3:\n",
        "    break\n",
        "  print(i)\n",
        "else:\n",
        "  print(\"for 문이 정상 종료 되었습니다.\")"
      ],
      "metadata": {
        "colab": {
          "base_uri": "https://localhost:8080/"
        },
        "id": "xq7w45Bcc09q",
        "outputId": "ad55b929-293c-469a-f250-fe0875a54b9f"
      },
      "execution_count": 41,
      "outputs": [
        {
          "output_type": "stream",
          "name": "stdout",
          "text": [
            "0\n",
            "1\n",
            "2\n"
          ]
        }
      ]
    },
    {
      "cell_type": "code",
      "source": [
        "fruits = ['apple', 'banana', 'orange']\n",
        "for i, fruit in enumerate(fruits):\n",
        "  print(f\"{i} : {fruit}\")"
      ],
      "metadata": {
        "colab": {
          "base_uri": "https://localhost:8080/"
        },
        "id": "w7pJLTq5dK95",
        "outputId": "31f8daf0-1eaf-4da2-fec6-721be6242842"
      },
      "execution_count": 44,
      "outputs": [
        {
          "output_type": "stream",
          "name": "stdout",
          "text": [
            "0 : apple\n",
            "1 : banana\n",
            "2 : orange\n"
          ]
        }
      ]
    },
    {
      "cell_type": "code",
      "source": [
        "fruits = ['apple', 'banana', 'orange']\n",
        "for i, fruit in enumerate(fruits, 1):\n",
        "  print(f\"{i} : {fruit}\")"
      ],
      "metadata": {
        "colab": {
          "base_uri": "https://localhost:8080/"
        },
        "id": "IKuhBlXlduLh",
        "outputId": "942181ed-46be-4ce7-b3f4-7b0fd7cdff39"
      },
      "execution_count": 48,
      "outputs": [
        {
          "output_type": "stream",
          "name": "stdout",
          "text": [
            "1 : apple\n",
            "2 : banana\n",
            "3 : orange\n"
          ]
        }
      ]
    },
    {
      "cell_type": "code",
      "source": [
        "names = ['홍길동', '김철수', '이영희']\n",
        "scores = [85, 93, 78]\n",
        "for i, (name, score) in enumerate(zip(names, scores), 1):\n",
        "  print(f\"{i} {name}: {score}점\")"
      ],
      "metadata": {
        "colab": {
          "base_uri": "https://localhost:8080/"
        },
        "id": "sng8DSuYeFmC",
        "outputId": "964b05b6-8979-4d99-bffc-632e42398067"
      },
      "execution_count": 54,
      "outputs": [
        {
          "output_type": "stream",
          "name": "stdout",
          "text": [
            "1 홍길동: 85점\n",
            "2 김철수: 93점\n",
            "3 이영희: 78점\n"
          ]
        }
      ]
    },
    {
      "cell_type": "code",
      "source": [
        "names = ['홍길동', '김철수', '이영희']\n",
        "korean = [85, 92, 78]\n",
        "english = [90, 88, 95]\n",
        "for name, kor, eng in zip(names, korean, english):\n",
        "  print(f\"{name}: 국어 {kor}점, 영어 {eng}점\")"
      ],
      "metadata": {
        "colab": {
          "base_uri": "https://localhost:8080/"
        },
        "id": "b3AGEQ7Revla",
        "outputId": "fc2ee753-5994-4757-f17d-6aab31613724"
      },
      "execution_count": 57,
      "outputs": [
        {
          "output_type": "stream",
          "name": "stdout",
          "text": [
            "홍길동: 국어 85점, 영어 90점\n",
            "김철수: 국어 92점, 영어 88점\n",
            "이영희: 국어 78점, 영어 95점\n"
          ]
        }
      ]
    }
  ]
}